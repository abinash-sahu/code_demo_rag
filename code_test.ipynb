{
 "cells": [
  {
   "cell_type": "code",
   "execution_count": null,
   "metadata": {},
   "outputs": [],
   "source": [
    "from langchain_openai import ChatOpenAI"
   ]
  },
  {
   "cell_type": "code",
   "execution_count": null,
   "metadata": {},
   "outputs": [],
   "source": [
    "llm = ChatOpenAI(\n",
    "                    model=\"gpt-4o\",\n",
    "                    temperature=0,\n",
    "                    max_tokens=None,\n",
    "                    timeout=None,\n",
    "                    max_retries=2,\n",
    "            )\n",
    "knowledge_context = \"\\n\".join([doc.page_content for doc in relevant_docs])\n",
    "response = llm.invoke(f\"Based on the following documents, answer the query: {query}\\n\\n{knowledge_context}\")"
   ]
  },
  {
   "cell_type": "code",
   "execution_count": null,
   "metadata": {},
   "outputs": [],
   "source": []
  }
 ],
 "metadata": {
  "kernelspec": {
   "display_name": "test",
   "language": "python",
   "name": "python3"
  },
  "language_info": {
   "name": "python",
   "version": "3.12.8"
  }
 },
 "nbformat": 4,
 "nbformat_minor": 2
}
